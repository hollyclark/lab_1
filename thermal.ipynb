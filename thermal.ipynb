{
 "cells": [
  {
   "cell_type": "code",
   "execution_count": 2,
   "metadata": {},
   "outputs": [],
   "source": [
    "import numpy as np"
   ]
  },
  {
   "cell_type": "markdown",
   "metadata": {},
   "source": [
    "$\\alpha = \\frac {\\Delta L} {L*\\Delta T}$"
   ]
  },
  {
   "cell_type": "markdown",
   "metadata": {},
   "source": [
    "$\\delta Q = Q \\sqrt{(m\\frac{\\delta A}{A})^2 + (n\\frac{\\delta B}{B})^2 + (o\\frac{\\delta C}{C})^2}$"
   ]
  },
  {
   "cell_type": "markdown",
   "metadata": {},
   "source": [
    "$\\Delta T = T_f - T_i$"
   ]
  },
  {
   "cell_type": "markdown",
   "metadata": {},
   "source": [
    "$\\delta Q = \\sqrt{(\\delta A)^2 + (\\delta B)^2}$"
   ]
  },
  {
   "cell_type": "code",
   "execution_count": 3,
   "metadata": {},
   "outputs": [],
   "source": [
    "def thermo (deltaL,L,deltaT):\n",
    "    alpha = deltaL/(L*deltaT)\n",
    "    return alpha"
   ]
  },
  {
   "cell_type": "code",
   "execution_count": 4,
   "metadata": {},
   "outputs": [
    {
     "name": "stdout",
     "output_type": "stream",
     "text": [
      "alpha =  1.7228309558266145e-05 degree C^-1\n"
     ]
    }
   ],
   "source": [
    "deltaL = .00125 \n",
    "L = 1.05\n",
    "deltaT = 69.1 \n",
    "\n",
    "alpha = thermo(deltaL,L,deltaT)\n",
    "print(\"alpha = \",alpha,\"degree C^-1\")"
   ]
  },
  {
   "cell_type": "code",
   "execution_count": 5,
   "metadata": {},
   "outputs": [
    {
     "name": "stdout",
     "output_type": "stream",
     "text": [
      "Error in Delta T =  0.31622776601683794 Degrees C\n"
     ]
    }
   ],
   "source": [
    "### RULE 3 ###\n",
    "\n",
    "def Qerror3(Aerror3,Berror3):\n",
    "    qe3 = ((Aerror3**2)+(Berror3**2))**(1/2)\n",
    "    return qe3\n",
    "\n",
    "Aerror3 = .3\n",
    "Berror3 = .1\n",
    "\n",
    "Q_Error_3 = Qerror3(Aerror3,Berror3)\n",
    "print(\"Error in Delta T = \",Q_Error_3,\"Degrees C\") "
   ]
  },
  {
   "cell_type": "code",
   "execution_count": 6,
   "metadata": {},
   "outputs": [
    {
     "name": "stdout",
     "output_type": "stream",
     "text": [
      "Error in Alpha =  1.5962962826045274e-07 Degrees C^-1\n"
     ]
    }
   ],
   "source": [
    "def Qerror4(Q,Aerror4,A4,Berror4,B4,Cerror4,C4,m,n,o):\n",
    "    qe4 = Q*(((((m*(Aerror4/A4))**2)+(n*(Berror4/B4))**2)+(o*(Cerror4/C4))**2)**(1/2))\n",
    "    return qe4\n",
    "\n",
    "Q = 1.7228309558266145e-05\n",
    "A4 = .00125\n",
    "B4 = 1.05\n",
    "C4 = 69.1\n",
    "Aerror4 = .00001\n",
    "Berror4 = .001 \n",
    "Cerror4 = 0.31622776601683794\n",
    "m = 1\n",
    "n = -1\n",
    "o = -1\n",
    "\n",
    "Q_Error_4 = Qerror4(Q,Aerror4,A4,Berror4,B4,Cerror4,C4,m,n,o)\n",
    "print(\"Error in Alpha = \",Q_Error_4,\"Degrees C^-1\")"
   ]
  }
 ],
 "metadata": {
  "kernelspec": {
   "display_name": "Python 3",
   "language": "python",
   "name": "python3"
  },
  "language_info": {
   "codemirror_mode": {
    "name": "ipython",
    "version": 3
   },
   "file_extension": ".py",
   "mimetype": "text/x-python",
   "name": "python",
   "nbconvert_exporter": "python",
   "pygments_lexer": "ipython3",
   "version": "3.6.5"
  }
 },
 "nbformat": 4,
 "nbformat_minor": 2
}
